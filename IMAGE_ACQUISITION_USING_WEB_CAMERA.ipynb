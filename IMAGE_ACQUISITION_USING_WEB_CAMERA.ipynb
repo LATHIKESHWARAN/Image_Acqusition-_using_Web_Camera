{
  "nbformat": 4,
  "nbformat_minor": 0,
  "metadata": {
    "colab": {
      "provenance": []
    },
    "kernelspec": {
      "name": "python3",
      "display_name": "Python 3"
    },
    "language_info": {
      "name": "python"
    }
  },
  "cells": [
    {
      "cell_type": "code",
      "execution_count": null,
      "metadata": {
        "id": "hYUzMUQkTAAr"
      },
      "outputs": [],
      "source": [
        "## i) Write the frame as JPG file\n",
"import cv2",
"videoCaptureObject = cv2.VideoCapture(0)",
"while (True):",
"    ret,frame = videoCaptureObject.read()",
 "   cv2.imwrite(\"trial.jpeg\",frame)\n",
 "   result = False",
"videoCaptureObject.release()",
"cv2.destroyAllWindows()",
      ]
    },
    {
      "cell_type": "code",
      "source": [
        "\n",
        "## ii) Display the video\n",
"import cv2",
"videoCaptureObject = cv2.VideoCapture(0)",
"while(True):",
 "   ret,frame = videoCaptureObject.read()",
  "  cv2.imshow('myimage',frame)",
   " if cv2.waitKey(1) == ord('q'):",
    "    break",
"videoCaptureObject.release()",
"cv2.destroyAllWindows()",
      ],
      "metadata": {
        "id": "wj6mW4yyTKFm"
      },
      "execution_count": null,
      "outputs": []
    },
    {
      "cell_type": "code",
      "source": [
"## iii) Display the video by resizing the window",
"import cv2",
"import numpy as np",
"cap = cv2.VideoCapture(0)",
"while True:",
 "   ret, frame = cap.read() ",
  "  width = int(cap.get(3))",
   " height = int(cap.get(4))",
    "image = np.zeros(frame.shape, np.uint8) ",
    "smaller_frame = cv2.resize(frame, (0,0), fx = 0.5, fy=0.5) ",
    "image[:height//2, :width//2] = smaller_frame",
    "image[height//2:, :width//2] = smaller_frame",
    "image[:height//2, width//2:] = smaller_frame ",
    "image [height//2:, width//2:] = smaller_frame",
    "cv2.imshow('myimage', image)",
    "if cv2.waitKey(1) == ord('q'):",
     "   break",
"cap.release()",
"cv2.destroyAllWindows()",
      ],
      "metadata": {
        "id": "Y12_al9uTMGw"
      },
      "execution_count": null,
      "outputs": []
    },
    {
      "cell_type": "code",
      "source": [
"## iv) Rotate and display the video"
"import cv2",
"import numpy as np",
"cap = cv2.VideoCapture(0)",
"while True:",
 "   ret, frame = cap.read() ",
  "  width = int(cap.get(3))",
   " height = int(cap.get(4))",
    "image = np.zeros(frame.shape, np.uint8) ",
    "smaller_frame = cv2.resize(frame, (0,0), fx = 0.5, fy=0.5) ",
    "image[:height//2, :width//2] = cv2.rotate(smaller_frame,cv2.ROTATE_180)",
    "image[height//2:, :width//2] = cv2.rotate(smaller_frame,cv2.ROTATE_180)",
    "image[:height//2, width//2:] = smaller_frame ",
    "image [height//2:, width//2:] = smaller_frame",
    "cv2.imshow('myimage', image)",
    "if cv2.waitKey(1) == ord('q'):",
     "   break",
"cap.release()",
"cv2.destroyAllWindows()",
      ],
      "metadata": {
        "id": "Cb1O23bdTOVM"
      },
      "execution_count": null,
      "outputs": []
    }
  ]
}
